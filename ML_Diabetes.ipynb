{
  "cells": [
    {
      "cell_type": "markdown",
      "metadata": {
        "id": "view-in-github",
        "colab_type": "text"
      },
      "source": [
        "<a href=\"https://colab.research.google.com/github/IgorDamascenoM/Repository_Machine_Learning/blob/main/ML_Diabetes.ipynb\" target=\"_parent\"><img src=\"https://colab.research.google.com/assets/colab-badge.svg\" alt=\"Open In Colab\"/></a>"
      ]
    },
    {
      "cell_type": "code",
      "execution_count": null,
      "id": "35fde710",
      "metadata": {
        "id": "35fde710"
      },
      "outputs": [],
      "source": [
        "import numpy as np\n",
        "import pandas as pd\n",
        "import matplotlib as mat\n",
        "import matplotlib.pyplot as plt\n",
        "import joblib \n",
        "import seaborn as sns\n",
        "import sklearn as sk\n",
        "from sklearn import metrics\n",
        "from sklearn.linear_model import LogisticRegression # Modelo de regressão linear\n",
        "from sklearn.preprocessing import MinMaxScaler # Para transformar os dados\n",
        "from sklearn.model_selection import train_test_split # Para dividir o banco de dados\n",
        "from sklearn.neighbors import KNeighborsClassifier # Modelo KNN\n",
        "from sklearn.tree import DecisionTreeClassifier #Decision Tree Model\n",
        "from sklearn.neural_network import MLPClassifier #MLP Model\n",
        "\n",
        "\n",
        "from sklearn.metrics import classification_report, confusion_matrix, accuracy_score \n",
        "%matplotlib inline"
      ]
    },
    {
      "cell_type": "code",
      "execution_count": null,
      "id": "a8c64166",
      "metadata": {
        "id": "a8c64166",
        "outputId": "fffe68a5-f158-44d8-93a8-e36770672341"
      },
      "outputs": [
        {
          "data": {
            "text/plain": [
              "function"
            ]
          },
          "execution_count": 2,
          "metadata": {},
          "output_type": "execute_result"
        }
      ],
      "source": [
        "type(classification_report)"
      ]
    },
    {
      "cell_type": "code",
      "execution_count": null,
      "id": "703c8fa6",
      "metadata": {
        "id": "703c8fa6"
      },
      "outputs": [],
      "source": [
        "df_diabetes = pd.read_csv('dados_DM.csv', delimiter =',')\n"
      ]
    },
    {
      "cell_type": "code",
      "execution_count": null,
      "id": "a5f860a5",
      "metadata": {
        "id": "a5f860a5",
        "outputId": "1d19df9d-d90e-4d5b-afa1-6d6bb8552bd8"
      },
      "outputs": [
        {
          "data": {
            "text/html": [
              "<div>\n",
              "<style scoped>\n",
              "    .dataframe tbody tr th:only-of-type {\n",
              "        vertical-align: middle;\n",
              "    }\n",
              "\n",
              "    .dataframe tbody tr th {\n",
              "        vertical-align: top;\n",
              "    }\n",
              "\n",
              "    .dataframe thead th {\n",
              "        text-align: right;\n",
              "    }\n",
              "</style>\n",
              "<table border=\"1\" class=\"dataframe\">\n",
              "  <thead>\n",
              "    <tr style=\"text-align: right;\">\n",
              "      <th></th>\n",
              "      <th>Pregnancies</th>\n",
              "      <th>Glicose</th>\n",
              "      <th>PS</th>\n",
              "      <th>EP</th>\n",
              "      <th>Insulina</th>\n",
              "      <th>IMC</th>\n",
              "      <th>PedigreeDiabetes</th>\n",
              "      <th>Idade</th>\n",
              "      <th>Diabete</th>\n",
              "    </tr>\n",
              "  </thead>\n",
              "  <tbody>\n",
              "    <tr>\n",
              "      <th>0</th>\n",
              "      <td>6</td>\n",
              "      <td>148</td>\n",
              "      <td>72</td>\n",
              "      <td>35</td>\n",
              "      <td>0</td>\n",
              "      <td>33.6</td>\n",
              "      <td>0.627</td>\n",
              "      <td>50</td>\n",
              "      <td>1</td>\n",
              "    </tr>\n",
              "    <tr>\n",
              "      <th>1</th>\n",
              "      <td>1</td>\n",
              "      <td>85</td>\n",
              "      <td>66</td>\n",
              "      <td>29</td>\n",
              "      <td>0</td>\n",
              "      <td>26.6</td>\n",
              "      <td>0.351</td>\n",
              "      <td>31</td>\n",
              "      <td>0</td>\n",
              "    </tr>\n",
              "    <tr>\n",
              "      <th>2</th>\n",
              "      <td>8</td>\n",
              "      <td>183</td>\n",
              "      <td>64</td>\n",
              "      <td>0</td>\n",
              "      <td>0</td>\n",
              "      <td>23.3</td>\n",
              "      <td>0.672</td>\n",
              "      <td>32</td>\n",
              "      <td>1</td>\n",
              "    </tr>\n",
              "    <tr>\n",
              "      <th>3</th>\n",
              "      <td>1</td>\n",
              "      <td>89</td>\n",
              "      <td>66</td>\n",
              "      <td>23</td>\n",
              "      <td>94</td>\n",
              "      <td>28.1</td>\n",
              "      <td>0.167</td>\n",
              "      <td>21</td>\n",
              "      <td>0</td>\n",
              "    </tr>\n",
              "    <tr>\n",
              "      <th>4</th>\n",
              "      <td>0</td>\n",
              "      <td>137</td>\n",
              "      <td>40</td>\n",
              "      <td>35</td>\n",
              "      <td>168</td>\n",
              "      <td>43.1</td>\n",
              "      <td>2.288</td>\n",
              "      <td>33</td>\n",
              "      <td>1</td>\n",
              "    </tr>\n",
              "  </tbody>\n",
              "</table>\n",
              "</div>"
            ],
            "text/plain": [
              "   Pregnancies  Glicose  PS  EP  Insulina   IMC  PedigreeDiabetes  Idade  \\\n",
              "0            6      148  72  35         0  33.6             0.627     50   \n",
              "1            1       85  66  29         0  26.6             0.351     31   \n",
              "2            8      183  64   0         0  23.3             0.672     32   \n",
              "3            1       89  66  23        94  28.1             0.167     21   \n",
              "4            0      137  40  35       168  43.1             2.288     33   \n",
              "\n",
              "   Diabete  \n",
              "0        1  \n",
              "1        0  \n",
              "2        1  \n",
              "3        0  \n",
              "4        1  "
            ]
          },
          "execution_count": 4,
          "metadata": {},
          "output_type": "execute_result"
        }
      ],
      "source": [
        "df_diabetes.head(5)"
      ]
    },
    {
      "cell_type": "code",
      "execution_count": null,
      "id": "f72572f2",
      "metadata": {
        "id": "f72572f2",
        "outputId": "f22d5495-3afd-4ac7-e199-c6dad51b2515"
      },
      "outputs": [
        {
          "data": {
            "text/html": [
              "<div>\n",
              "<style scoped>\n",
              "    .dataframe tbody tr th:only-of-type {\n",
              "        vertical-align: middle;\n",
              "    }\n",
              "\n",
              "    .dataframe tbody tr th {\n",
              "        vertical-align: top;\n",
              "    }\n",
              "\n",
              "    .dataframe thead th {\n",
              "        text-align: right;\n",
              "    }\n",
              "</style>\n",
              "<table border=\"1\" class=\"dataframe\">\n",
              "  <thead>\n",
              "    <tr style=\"text-align: right;\">\n",
              "      <th></th>\n",
              "      <th>Pregnancies</th>\n",
              "      <th>Glicose</th>\n",
              "      <th>PS</th>\n",
              "      <th>EP</th>\n",
              "      <th>Insulina</th>\n",
              "      <th>IMC</th>\n",
              "      <th>PedigreeDiabetes</th>\n",
              "      <th>Idade</th>\n",
              "      <th>Diabete</th>\n",
              "    </tr>\n",
              "  </thead>\n",
              "  <tbody>\n",
              "    <tr>\n",
              "      <th>763</th>\n",
              "      <td>10</td>\n",
              "      <td>101</td>\n",
              "      <td>76</td>\n",
              "      <td>48</td>\n",
              "      <td>180</td>\n",
              "      <td>32.9</td>\n",
              "      <td>0.171</td>\n",
              "      <td>63</td>\n",
              "      <td>0</td>\n",
              "    </tr>\n",
              "    <tr>\n",
              "      <th>764</th>\n",
              "      <td>2</td>\n",
              "      <td>122</td>\n",
              "      <td>70</td>\n",
              "      <td>27</td>\n",
              "      <td>0</td>\n",
              "      <td>36.8</td>\n",
              "      <td>0.340</td>\n",
              "      <td>27</td>\n",
              "      <td>0</td>\n",
              "    </tr>\n",
              "    <tr>\n",
              "      <th>765</th>\n",
              "      <td>5</td>\n",
              "      <td>121</td>\n",
              "      <td>72</td>\n",
              "      <td>23</td>\n",
              "      <td>112</td>\n",
              "      <td>26.2</td>\n",
              "      <td>0.245</td>\n",
              "      <td>30</td>\n",
              "      <td>0</td>\n",
              "    </tr>\n",
              "    <tr>\n",
              "      <th>766</th>\n",
              "      <td>1</td>\n",
              "      <td>126</td>\n",
              "      <td>60</td>\n",
              "      <td>0</td>\n",
              "      <td>0</td>\n",
              "      <td>30.1</td>\n",
              "      <td>0.349</td>\n",
              "      <td>47</td>\n",
              "      <td>1</td>\n",
              "    </tr>\n",
              "    <tr>\n",
              "      <th>767</th>\n",
              "      <td>1</td>\n",
              "      <td>93</td>\n",
              "      <td>70</td>\n",
              "      <td>31</td>\n",
              "      <td>0</td>\n",
              "      <td>30.4</td>\n",
              "      <td>0.315</td>\n",
              "      <td>23</td>\n",
              "      <td>0</td>\n",
              "    </tr>\n",
              "  </tbody>\n",
              "</table>\n",
              "</div>"
            ],
            "text/plain": [
              "     Pregnancies  Glicose  PS  EP  Insulina   IMC  PedigreeDiabetes  Idade  \\\n",
              "763           10      101  76  48       180  32.9             0.171     63   \n",
              "764            2      122  70  27         0  36.8             0.340     27   \n",
              "765            5      121  72  23       112  26.2             0.245     30   \n",
              "766            1      126  60   0         0  30.1             0.349     47   \n",
              "767            1       93  70  31         0  30.4             0.315     23   \n",
              "\n",
              "     Diabete  \n",
              "763        0  \n",
              "764        0  \n",
              "765        0  \n",
              "766        1  \n",
              "767        0  "
            ]
          },
          "execution_count": 5,
          "metadata": {},
          "output_type": "execute_result"
        }
      ],
      "source": [
        "df_diabetes.tail(5)"
      ]
    },
    {
      "cell_type": "code",
      "execution_count": null,
      "id": "75f28de3",
      "metadata": {
        "id": "75f28de3",
        "outputId": "ebe99a1a-6b1c-455b-f525-5aec2b4701ca"
      },
      "outputs": [
        {
          "data": {
            "text/plain": [
              "Index(['Pregnancies', 'Glicose', 'PS', 'EP', 'Insulina', 'IMC',\n",
              "       'PedigreeDiabetes', 'Idade', 'Diabete'],\n",
              "      dtype='object')"
            ]
          },
          "execution_count": 6,
          "metadata": {},
          "output_type": "execute_result"
        }
      ],
      "source": [
        "df_diabetes.columns"
      ]
    },
    {
      "cell_type": "code",
      "execution_count": null,
      "id": "886ab10e",
      "metadata": {
        "id": "886ab10e",
        "outputId": "c2535ad9-8999-49f0-8831-c91f4eb7b385"
      },
      "outputs": [
        {
          "data": {
            "text/plain": [
              "False"
            ]
          },
          "execution_count": 7,
          "metadata": {},
          "output_type": "execute_result"
        }
      ],
      "source": [
        "# Existe algum valor nulo nos meus dados ? (missed)\n",
        "df_diabetes.isnull().values.any()"
      ]
    },
    {
      "cell_type": "markdown",
      "id": "defbd405",
      "metadata": {
        "id": "defbd405"
      },
      "source": [
        "df_diabetes.info()"
      ]
    },
    {
      "cell_type": "code",
      "execution_count": null,
      "id": "25865598",
      "metadata": {
        "id": "25865598",
        "outputId": "e244b41a-c7db-4866-fb3a-4ec1b6d34956"
      },
      "outputs": [
        {
          "data": {
            "text/html": [
              "<div>\n",
              "<style scoped>\n",
              "    .dataframe tbody tr th:only-of-type {\n",
              "        vertical-align: middle;\n",
              "    }\n",
              "\n",
              "    .dataframe tbody tr th {\n",
              "        vertical-align: top;\n",
              "    }\n",
              "\n",
              "    .dataframe thead th {\n",
              "        text-align: right;\n",
              "    }\n",
              "</style>\n",
              "<table border=\"1\" class=\"dataframe\">\n",
              "  <thead>\n",
              "    <tr style=\"text-align: right;\">\n",
              "      <th></th>\n",
              "      <th>Pregnancies</th>\n",
              "      <th>Glicose</th>\n",
              "      <th>PS</th>\n",
              "      <th>EP</th>\n",
              "      <th>Insulina</th>\n",
              "      <th>IMC</th>\n",
              "      <th>PedigreeDiabetes</th>\n",
              "      <th>Idade</th>\n",
              "      <th>Diabete</th>\n",
              "    </tr>\n",
              "  </thead>\n",
              "  <tbody>\n",
              "    <tr>\n",
              "      <th>count</th>\n",
              "      <td>768.000000</td>\n",
              "      <td>768.000000</td>\n",
              "      <td>768.000000</td>\n",
              "      <td>768.000000</td>\n",
              "      <td>768.000000</td>\n",
              "      <td>768.000000</td>\n",
              "      <td>768.000000</td>\n",
              "      <td>768.000000</td>\n",
              "      <td>768.000000</td>\n",
              "    </tr>\n",
              "    <tr>\n",
              "      <th>mean</th>\n",
              "      <td>3.845052</td>\n",
              "      <td>120.894531</td>\n",
              "      <td>69.105469</td>\n",
              "      <td>20.536458</td>\n",
              "      <td>79.799479</td>\n",
              "      <td>31.992578</td>\n",
              "      <td>0.471876</td>\n",
              "      <td>33.240885</td>\n",
              "      <td>0.348958</td>\n",
              "    </tr>\n",
              "    <tr>\n",
              "      <th>std</th>\n",
              "      <td>3.369578</td>\n",
              "      <td>31.972618</td>\n",
              "      <td>19.355807</td>\n",
              "      <td>15.952218</td>\n",
              "      <td>115.244002</td>\n",
              "      <td>7.884160</td>\n",
              "      <td>0.331329</td>\n",
              "      <td>11.760232</td>\n",
              "      <td>0.476951</td>\n",
              "    </tr>\n",
              "    <tr>\n",
              "      <th>min</th>\n",
              "      <td>0.000000</td>\n",
              "      <td>0.000000</td>\n",
              "      <td>0.000000</td>\n",
              "      <td>0.000000</td>\n",
              "      <td>0.000000</td>\n",
              "      <td>0.000000</td>\n",
              "      <td>0.078000</td>\n",
              "      <td>21.000000</td>\n",
              "      <td>0.000000</td>\n",
              "    </tr>\n",
              "    <tr>\n",
              "      <th>25%</th>\n",
              "      <td>1.000000</td>\n",
              "      <td>99.000000</td>\n",
              "      <td>62.000000</td>\n",
              "      <td>0.000000</td>\n",
              "      <td>0.000000</td>\n",
              "      <td>27.300000</td>\n",
              "      <td>0.243750</td>\n",
              "      <td>24.000000</td>\n",
              "      <td>0.000000</td>\n",
              "    </tr>\n",
              "    <tr>\n",
              "      <th>50%</th>\n",
              "      <td>3.000000</td>\n",
              "      <td>117.000000</td>\n",
              "      <td>72.000000</td>\n",
              "      <td>23.000000</td>\n",
              "      <td>30.500000</td>\n",
              "      <td>32.000000</td>\n",
              "      <td>0.372500</td>\n",
              "      <td>29.000000</td>\n",
              "      <td>0.000000</td>\n",
              "    </tr>\n",
              "    <tr>\n",
              "      <th>75%</th>\n",
              "      <td>6.000000</td>\n",
              "      <td>140.250000</td>\n",
              "      <td>80.000000</td>\n",
              "      <td>32.000000</td>\n",
              "      <td>127.250000</td>\n",
              "      <td>36.600000</td>\n",
              "      <td>0.626250</td>\n",
              "      <td>41.000000</td>\n",
              "      <td>1.000000</td>\n",
              "    </tr>\n",
              "    <tr>\n",
              "      <th>max</th>\n",
              "      <td>17.000000</td>\n",
              "      <td>199.000000</td>\n",
              "      <td>122.000000</td>\n",
              "      <td>99.000000</td>\n",
              "      <td>846.000000</td>\n",
              "      <td>67.100000</td>\n",
              "      <td>2.420000</td>\n",
              "      <td>81.000000</td>\n",
              "      <td>1.000000</td>\n",
              "    </tr>\n",
              "  </tbody>\n",
              "</table>\n",
              "</div>"
            ],
            "text/plain": [
              "       Pregnancies     Glicose          PS          EP    Insulina  \\\n",
              "count   768.000000  768.000000  768.000000  768.000000  768.000000   \n",
              "mean      3.845052  120.894531   69.105469   20.536458   79.799479   \n",
              "std       3.369578   31.972618   19.355807   15.952218  115.244002   \n",
              "min       0.000000    0.000000    0.000000    0.000000    0.000000   \n",
              "25%       1.000000   99.000000   62.000000    0.000000    0.000000   \n",
              "50%       3.000000  117.000000   72.000000   23.000000   30.500000   \n",
              "75%       6.000000  140.250000   80.000000   32.000000  127.250000   \n",
              "max      17.000000  199.000000  122.000000   99.000000  846.000000   \n",
              "\n",
              "              IMC  PedigreeDiabetes       Idade     Diabete  \n",
              "count  768.000000        768.000000  768.000000  768.000000  \n",
              "mean    31.992578          0.471876   33.240885    0.348958  \n",
              "std      7.884160          0.331329   11.760232    0.476951  \n",
              "min      0.000000          0.078000   21.000000    0.000000  \n",
              "25%     27.300000          0.243750   24.000000    0.000000  \n",
              "50%     32.000000          0.372500   29.000000    0.000000  \n",
              "75%     36.600000          0.626250   41.000000    1.000000  \n",
              "max     67.100000          2.420000   81.000000    1.000000  "
            ]
          },
          "execution_count": 8,
          "metadata": {},
          "output_type": "execute_result"
        }
      ],
      "source": [
        "df_diabetes.describe()"
      ]
    },
    {
      "cell_type": "code",
      "execution_count": null,
      "id": "e01ed7a9",
      "metadata": {
        "id": "e01ed7a9",
        "outputId": "279882d3-f8c5-48aa-fca7-fe6f03d36435"
      },
      "outputs": [
        {
          "data": {
            "text/plain": [
              "0    500\n",
              "1    268\n",
              "Name: Diabete, dtype: int64"
            ]
          },
          "execution_count": 9,
          "metadata": {},
          "output_type": "execute_result"
        }
      ],
      "source": [
        "#Quantidade de casos de Diabetes (Outcomes)\n",
        "#variavel binária/dummy\n",
        "#variavel que vai dizer se a pessoa tem ou não diabetes\n",
        "df_diabetes['Diabete'].value_counts()"
      ]
    },
    {
      "cell_type": "code",
      "execution_count": null,
      "id": "8e83ec3b",
      "metadata": {
        "id": "8e83ec3b"
      },
      "outputs": [],
      "source": [
        "#análise de correlação ==> função corr\n",
        "correlation = df_diabetes.corr()"
      ]
    },
    {
      "cell_type": "code",
      "execution_count": null,
      "id": "4f25f575",
      "metadata": {
        "id": "4f25f575",
        "outputId": "4ad018e2-0c68-4e1a-a210-c679667c51c9"
      },
      "outputs": [
        {
          "data": {
            "text/plain": [
              "<AxesSubplot:>"
            ]
          },
          "execution_count": 11,
          "metadata": {},
          "output_type": "execute_result"
        },
        {
          "data": {
            "image/png": "[encoded data removed]",
            "text/plain": [
              "<Figure size 432x288 with 2 Axes>"
            ]
          },
          "metadata": {
            "needs_background": "light"
          },
          "output_type": "display_data"
        }
      ],
      "source": [
        "#plot da matirz (Gráfico)\n",
        "#gráfico da matriz de correlação (seaborn)\n",
        "#Grau de correlação não implica uma relação causal\n",
        "plot = sns.heatmap(correlation, annot = True, fmt=\".1f\", linewidths=.8)\n",
        "plot"
      ]
    },
    {
      "cell_type": "code",
      "execution_count": null,
      "id": "2a73649c",
      "metadata": {
        "scrolled": true,
        "id": "2a73649c",
        "outputId": "3bd54ad2-6802-4891-8f52-c2bf13ce6d94"
      },
      "outputs": [
        {
          "data": {
            "text/html": [
              "<div>\n",
              "<style scoped>\n",
              "    .dataframe tbody tr th:only-of-type {\n",
              "        vertical-align: middle;\n",
              "    }\n",
              "\n",
              "    .dataframe tbody tr th {\n",
              "        vertical-align: top;\n",
              "    }\n",
              "\n",
              "    .dataframe thead th {\n",
              "        text-align: right;\n",
              "    }\n",
              "</style>\n",
              "<table border=\"1\" class=\"dataframe\">\n",
              "  <thead>\n",
              "    <tr style=\"text-align: right;\">\n",
              "      <th></th>\n",
              "      <th>Pregnancies</th>\n",
              "      <th>Glicose</th>\n",
              "      <th>PS</th>\n",
              "      <th>EP</th>\n",
              "      <th>Insulina</th>\n",
              "      <th>IMC</th>\n",
              "      <th>PedigreeDiabetes</th>\n",
              "      <th>Idade</th>\n",
              "      <th>Diabete</th>\n",
              "    </tr>\n",
              "  </thead>\n",
              "  <tbody>\n",
              "    <tr>\n",
              "      <th>Pregnancies</th>\n",
              "      <td>1.000000</td>\n",
              "      <td>0.129459</td>\n",
              "      <td>0.141282</td>\n",
              "      <td>-0.081672</td>\n",
              "      <td>-0.073535</td>\n",
              "      <td>0.017683</td>\n",
              "      <td>-0.033523</td>\n",
              "      <td>0.544341</td>\n",
              "      <td>0.221898</td>\n",
              "    </tr>\n",
              "    <tr>\n",
              "      <th>Glicose</th>\n",
              "      <td>0.129459</td>\n",
              "      <td>1.000000</td>\n",
              "      <td>0.152590</td>\n",
              "      <td>0.057328</td>\n",
              "      <td>0.331357</td>\n",
              "      <td>0.221071</td>\n",
              "      <td>0.137337</td>\n",
              "      <td>0.263514</td>\n",
              "      <td>0.466581</td>\n",
              "    </tr>\n",
              "    <tr>\n",
              "      <th>PS</th>\n",
              "      <td>0.141282</td>\n",
              "      <td>0.152590</td>\n",
              "      <td>1.000000</td>\n",
              "      <td>0.207371</td>\n",
              "      <td>0.088933</td>\n",
              "      <td>0.281805</td>\n",
              "      <td>0.041265</td>\n",
              "      <td>0.239528</td>\n",
              "      <td>0.065068</td>\n",
              "    </tr>\n",
              "    <tr>\n",
              "      <th>EP</th>\n",
              "      <td>-0.081672</td>\n",
              "      <td>0.057328</td>\n",
              "      <td>0.207371</td>\n",
              "      <td>1.000000</td>\n",
              "      <td>0.436783</td>\n",
              "      <td>0.392573</td>\n",
              "      <td>0.183928</td>\n",
              "      <td>-0.113970</td>\n",
              "      <td>0.074752</td>\n",
              "    </tr>\n",
              "    <tr>\n",
              "      <th>Insulina</th>\n",
              "      <td>-0.073535</td>\n",
              "      <td>0.331357</td>\n",
              "      <td>0.088933</td>\n",
              "      <td>0.436783</td>\n",
              "      <td>1.000000</td>\n",
              "      <td>0.197859</td>\n",
              "      <td>0.185071</td>\n",
              "      <td>-0.042163</td>\n",
              "      <td>0.130548</td>\n",
              "    </tr>\n",
              "    <tr>\n",
              "      <th>IMC</th>\n",
              "      <td>0.017683</td>\n",
              "      <td>0.221071</td>\n",
              "      <td>0.281805</td>\n",
              "      <td>0.392573</td>\n",
              "      <td>0.197859</td>\n",
              "      <td>1.000000</td>\n",
              "      <td>0.140647</td>\n",
              "      <td>0.036242</td>\n",
              "      <td>0.292695</td>\n",
              "    </tr>\n",
              "    <tr>\n",
              "      <th>PedigreeDiabetes</th>\n",
              "      <td>-0.033523</td>\n",
              "      <td>0.137337</td>\n",
              "      <td>0.041265</td>\n",
              "      <td>0.183928</td>\n",
              "      <td>0.185071</td>\n",
              "      <td>0.140647</td>\n",
              "      <td>1.000000</td>\n",
              "      <td>0.033561</td>\n",
              "      <td>0.173844</td>\n",
              "    </tr>\n",
              "    <tr>\n",
              "      <th>Idade</th>\n",
              "      <td>0.544341</td>\n",
              "      <td>0.263514</td>\n",
              "      <td>0.239528</td>\n",
              "      <td>-0.113970</td>\n",
              "      <td>-0.042163</td>\n",
              "      <td>0.036242</td>\n",
              "      <td>0.033561</td>\n",
              "      <td>1.000000</td>\n",
              "      <td>0.238356</td>\n",
              "    </tr>\n",
              "    <tr>\n",
              "      <th>Diabete</th>\n",
              "      <td>0.221898</td>\n",
              "      <td>0.466581</td>\n",
              "      <td>0.065068</td>\n",
              "      <td>0.074752</td>\n",
              "      <td>0.130548</td>\n",
              "      <td>0.292695</td>\n",
              "      <td>0.173844</td>\n",
              "      <td>0.238356</td>\n",
              "      <td>1.000000</td>\n",
              "    </tr>\n",
              "  </tbody>\n",
              "</table>\n",
              "</div>"
            ],
            "text/plain": [
              "                  Pregnancies   Glicose        PS        EP  Insulina  \\\n",
              "Pregnancies          1.000000  0.129459  0.141282 -0.081672 -0.073535   \n",
              "Glicose              0.129459  1.000000  0.152590  0.057328  0.331357   \n",
              "PS                   0.141282  0.152590  1.000000  0.207371  0.088933   \n",
              "EP                  -0.081672  0.057328  0.207371  1.000000  0.436783   \n",
              "Insulina            -0.073535  0.331357  0.088933  0.436783  1.000000   \n",
              "IMC                  0.017683  0.221071  0.281805  0.392573  0.197859   \n",
              "PedigreeDiabetes    -0.033523  0.137337  0.041265  0.183928  0.185071   \n",
              "Idade                0.544341  0.263514  0.239528 -0.113970 -0.042163   \n",
              "Diabete              0.221898  0.466581  0.065068  0.074752  0.130548   \n",
              "\n",
              "                       IMC  PedigreeDiabetes     Idade   Diabete  \n",
              "Pregnancies       0.017683         -0.033523  0.544341  0.221898  \n",
              "Glicose           0.221071          0.137337  0.263514  0.466581  \n",
              "PS                0.281805          0.041265  0.239528  0.065068  \n",
              "EP                0.392573          0.183928 -0.113970  0.074752  \n",
              "Insulina          0.197859          0.185071 -0.042163  0.130548  \n",
              "IMC               1.000000          0.140647  0.036242  0.292695  \n",
              "PedigreeDiabetes  0.140647          1.000000  0.033561  0.173844  \n",
              "Idade             0.036242          0.033561  1.000000  0.238356  \n",
              "Diabete           0.292695          0.173844  0.238356  1.000000  "
            ]
          },
          "execution_count": 12,
          "metadata": {},
          "output_type": "execute_result"
        }
      ],
      "source": [
        "df_diabetes.corr()"
      ]
    },
    {
      "cell_type": "markdown",
      "id": "c8d1145d",
      "metadata": {
        "id": "c8d1145d"
      },
      "source": [
        "Divindo a base de dados\n",
        "\n",
        "1. Banco de treinos (70% +-)\n",
        "2. Banco de testes  (30% +-)"
      ]
    },
    {
      "cell_type": "code",
      "execution_count": null,
      "id": "c6aceff9",
      "metadata": {
        "id": "c6aceff9",
        "outputId": "533e7f59-e144-4164-a066-bb3588037997"
      },
      "outputs": [
        {
          "data": {
            "text/plain": [
              "'1.0.2'"
            ]
          },
          "execution_count": 13,
          "metadata": {},
          "output_type": "execute_result"
        }
      ],
      "source": [
        "sk.__version__"
      ]
    },
    {
      "cell_type": "code",
      "execution_count": null,
      "id": "1fc2d7e8",
      "metadata": {
        "id": "1fc2d7e8",
        "outputId": "cc1b1951-793d-45c1-cba9-e6810d022167"
      },
      "outputs": [
        {
          "data": {
            "text/plain": [
              "'0.11.2'"
            ]
          },
          "execution_count": 14,
          "metadata": {},
          "output_type": "execute_result"
        }
      ],
      "source": [
        "sns.__version__"
      ]
    },
    {
      "cell_type": "code",
      "execution_count": null,
      "id": "aa489ba3",
      "metadata": {
        "id": "aa489ba3"
      },
      "outputs": [],
      "source": [
        "from sklearn.model_selection import train_test_split"
      ]
    },
    {
      "cell_type": "code",
      "execution_count": null,
      "id": "08ffdacf",
      "metadata": {
        "id": "08ffdacf",
        "outputId": "ea6c4c1b-8137-4473-b5ed-cb5d8d1fc8df"
      },
      "outputs": [
        {
          "data": {
            "text/plain": [
              "Index(['Pregnancies', 'Glicose', 'PS', 'EP', 'Insulina', 'IMC',\n",
              "       'PedigreeDiabetes', 'Idade', 'Diabete'],\n",
              "      dtype='object')"
            ]
          },
          "execution_count": 16,
          "metadata": {},
          "output_type": "execute_result"
        }
      ],
      "source": [
        "df_diabetes.columns"
      ]
    },
    {
      "cell_type": "code",
      "execution_count": null,
      "id": "6592a97d",
      "metadata": {
        "id": "6592a97d"
      },
      "outputs": [],
      "source": [
        "atributos = ['Pregnancies', 'Glicose', 'PS', 'EP', 'Insulina', 'IMC',\n",
        "       'PedigreeDiabetes', 'Idade']"
      ]
    },
    {
      "cell_type": "code",
      "execution_count": null,
      "id": "1957226b",
      "metadata": {
        "id": "1957226b"
      },
      "outputs": [],
      "source": [
        "#variavel que sera prevista\n",
        "atributo_prev= ['Diabete']"
      ]
    },
    {
      "cell_type": "markdown",
      "id": "a874b3eb",
      "metadata": {
        "id": "a874b3eb"
      },
      "source": [
        "X = variavel preditora\n",
        "Y = variavel dependente"
      ]
    },
    {
      "cell_type": "code",
      "execution_count": null,
      "id": "f24e106f",
      "metadata": {
        "id": "f24e106f"
      },
      "outputs": [],
      "source": [
        "x = df_diabetes[atributos].values\n",
        "y = df_diabetes[atributo_prev].values"
      ]
    },
    {
      "cell_type": "code",
      "execution_count": null,
      "id": "15853af8",
      "metadata": {
        "id": "15853af8",
        "outputId": "090b2918-9e08-4d8d-cd55-3ed0e08c81c5"
      },
      "outputs": [
        {
          "data": {
            "text/plain": [
              "array([[  6.   , 148.   ,  72.   , ...,  33.6  ,   0.627,  50.   ],\n",
              "       [  1.   ,  85.   ,  66.   , ...,  26.6  ,   0.351,  31.   ],\n",
              "       [  8.   , 183.   ,  64.   , ...,  23.3  ,   0.672,  32.   ],\n",
              "       ...,\n",
              "       [  5.   , 121.   ,  72.   , ...,  26.2  ,   0.245,  30.   ],\n",
              "       [  1.   , 126.   ,  60.   , ...,  30.1  ,   0.349,  47.   ],\n",
              "       [  1.   ,  93.   ,  70.   , ...,  30.4  ,   0.315,  23.   ]])"
            ]
          },
          "execution_count": 20,
          "metadata": {},
          "output_type": "execute_result"
        }
      ],
      "source": [
        "x"
      ]
    },
    {
      "cell_type": "code",
      "execution_count": null,
      "id": "0d7dd69f",
      "metadata": {
        "id": "0d7dd69f",
        "outputId": "c9724d53-3907-4542-958c-2d745cd3fc48"
      },
      "outputs": [
        {
          "data": {
            "text/plain": [
              "array([[1],\n",
              "       [0],\n",
              "       [1],\n",
              "       [0],\n",
              "       [1],\n",
              "       [0],\n",
              "       [1],\n",
              "       [0],\n",
              "       [1],\n",
              "       [1],\n",
              "       [0],\n",
              "       [1],\n",
              "       [0],\n",
              "       [1],\n",
              "       [1],\n",
              "       [1],\n",
              "       [1],\n",
              "       [1],\n",
              "       [0],\n",
              "       [1],\n",
              "       [0],\n",
              "       [0],\n",
              "       [1],\n",
              "       [1],\n",
              "       [1],\n",
              "       [1],\n",
              "       [1],\n",
              "       [0],\n",
              "       [0],\n",
              "       [0],\n",
              "       [0],\n",
              "       [1],\n",
              "       [0],\n",
              "       [0],\n",
              "       [0],\n",
              "       [0],\n",
              "       [0],\n",
              "       [1],\n",
              "       [1],\n",
              "       [1],\n",
              "       [0],\n",
              "       [0],\n",
              "       [0],\n",
              "       [1],\n",
              "       [0],\n",
              "       [1],\n",
              "       [0],\n",
              "       [0],\n",
              "       [1],\n",
              "       [0],\n",
              "       [0],\n",
              "       [0],\n",
              "       [0],\n",
              "       [1],\n",
              "       [0],\n",
              "       [0],\n",
              "       [1],\n",
              "       [0],\n",
              "       [0],\n",
              "       [0],\n",
              "       [0],\n",
              "       [1],\n",
              "       [0],\n",
              "       [0],\n",
              "       [1],\n",
              "       [0],\n",
              "       [1],\n",
              "       [0],\n",
              "       [0],\n",
              "       [0],\n",
              "       [1],\n",
              "       [0],\n",
              "       [1],\n",
              "       [0],\n",
              "       [0],\n",
              "       [0],\n",
              "       [0],\n",
              "       [0],\n",
              "       [1],\n",
              "       [0],\n",
              "       [0],\n",
              "       [0],\n",
              "       [0],\n",
              "       [0],\n",
              "       [1],\n",
              "       [0],\n",
              "       [0],\n",
              "       [0],\n",
              "       [1],\n",
              "       [0],\n",
              "       [0],\n",
              "       [0],\n",
              "       [0],\n",
              "       [1],\n",
              "       [0],\n",
              "       [0],\n",
              "       [0],\n",
              "       [0],\n",
              "       [0],\n",
              "       [1],\n",
              "       [1],\n",
              "       [0],\n",
              "       [0],\n",
              "       [0],\n",
              "       [0],\n",
              "       [0],\n",
              "       [0],\n",
              "       [0],\n",
              "       [0],\n",
              "       [1],\n",
              "       [1],\n",
              "       [1],\n",
              "       [0],\n",
              "       [0],\n",
              "       [1],\n",
              "       [1],\n",
              "       [1],\n",
              "       [0],\n",
              "       [0],\n",
              "       [0],\n",
              "       [1],\n",
              "       [0],\n",
              "       [0],\n",
              "       [0],\n",
              "       [1],\n",
              "       [1],\n",
              "       [0],\n",
              "       [0],\n",
              "       [1],\n",
              "       [1],\n",
              "       [1],\n",
              "       [1],\n",
              "       [1],\n",
              "       [0],\n",
              "       [0],\n",
              "       [0],\n",
              "       [0],\n",
              "       [0],\n",
              "       [0],\n",
              "       [0],\n",
              "       [0],\n",
              "       [0],\n",
              "       [0],\n",
              "       [1],\n",
              "       [0],\n",
              "       [0],\n",
              "       [0],\n",
              "       [0],\n",
              "       [0],\n",
              "       [0],\n",
              "       [0],\n",
              "       [0],\n",
              "       [1],\n",
              "       [0],\n",
              "       [1],\n",
              "       [1],\n",
              "       [0],\n",
              "       [0],\n",
              "       [0],\n",
              "       [1],\n",
              "       [0],\n",
              "       [0],\n",
              "       [0],\n",
              "       [0],\n",
              "       [1],\n",
              "       [1],\n",
              "       [0],\n",
              "       [0],\n",
              "       [0],\n",
              "       [0],\n",
              "       [1],\n",
              "       [1],\n",
              "       [0],\n",
              "       [0],\n",
              "       [0],\n",
              "       [1],\n",
              "       [0],\n",
              "       [1],\n",
              "       [0],\n",
              "       [1],\n",
              "       [0],\n",
              "       [0],\n",
              "       [0],\n",
              "       [0],\n",
              "       [0],\n",
              "       [1],\n",
              "       [1],\n",
              "       [1],\n",
              "       [1],\n",
              "       [1],\n",
              "       [0],\n",
              "       [0],\n",
              "       [1],\n",
              "       [1],\n",
              "       [0],\n",
              "       [1],\n",
              "       [0],\n",
              "       [1],\n",
              "       [1],\n",
              "       [1],\n",
              "       [0],\n",
              "       [0],\n",
              "       [0],\n",
              "       [0],\n",
              "       [0],\n",
              "       [0],\n",
              "       [1],\n",
              "       [1],\n",
              "       [0],\n",
              "       [1],\n",
              "       [0],\n",
              "       [0],\n",
              "       [0],\n",
              "       [1],\n",
              "       [1],\n",
              "       [1],\n",
              "       [1],\n",
              "       [0],\n",
              "       [1],\n",
              "       [1],\n",
              "       [1],\n",
              "       [1],\n",
              "       [0],\n",
              "       [0],\n",
              "       [0],\n",
              "       [0],\n",
              "       [0],\n",
              "       [1],\n",
              "       [0],\n",
              "       [0],\n",
              "       [1],\n",
              "       [1],\n",
              "       [0],\n",
              "       [0],\n",
              "       [0],\n",
              "       [1],\n",
              "       [1],\n",
              "       [1],\n",
              "       [1],\n",
              "       [0],\n",
              "       [0],\n",
              "       [0],\n",
              "       [1],\n",
              "       [1],\n",
              "       [0],\n",
              "       [1],\n",
              "       [0],\n",
              "       [0],\n",
              "       [0],\n",
              "       [0],\n",
              "       [0],\n",
              "       [0],\n",
              "       [0],\n",
              "       [0],\n",
              "       [1],\n",
              "       [1],\n",
              "       [0],\n",
              "       [0],\n",
              "       [0],\n",
              "       [1],\n",
              "       [0],\n",
              "       [1],\n",
              "       [0],\n",
              "       [0],\n",
              "       [1],\n",
              "       [0],\n",
              "       [1],\n",
              "       [0],\n",
              "       [0],\n",
              "       [1],\n",
              "       [1],\n",
              "       [0],\n",
              "       [0],\n",
              "       [0],\n",
              "       [0],\n",
              "       [0],\n",
              "       [1],\n",
              "       [0],\n",
              "       [0],\n",
              "       [0],\n",
              "       [1],\n",
              "       [0],\n",
              "       [0],\n",
              "       [1],\n",
              "       [1],\n",
              "       [0],\n",
              "       [0],\n",
              "       [1],\n",
              "       [0],\n",
              "       [0],\n",
              "       [0],\n",
              "       [1],\n",
              "       [1],\n",
              "       [1],\n",
              "       [0],\n",
              "       [0],\n",
              "       [1],\n",
              "       [0],\n",
              "       [1],\n",
              "       [0],\n",
              "       [1],\n",
              "       [1],\n",
              "       [0],\n",
              "       [1],\n",
              "       [0],\n",
              "       [0],\n",
              "       [1],\n",
              "       [0],\n",
              "       [1],\n",
              "       [1],\n",
              "       [0],\n",
              "       [0],\n",
              "       [1],\n",
              "       [0],\n",
              "       [1],\n",
              "       [0],\n",
              "       [0],\n",
              "       [1],\n",
              "       [0],\n",
              "       [1],\n",
              "       [0],\n",
              "       [1],\n",
              "       [1],\n",
              "       [1],\n",
              "       [0],\n",
              "       [0],\n",
              "       [1],\n",
              "       [0],\n",
              "       [1],\n",
              "       [0],\n",
              "       [0],\n",
              "       [0],\n",
              "       [1],\n",
              "       [0],\n",
              "       [0],\n",
              "       [0],\n",
              "       [0],\n",
              "       [1],\n",
              "       [1],\n",
              "       [1],\n",
              "       [0],\n",
              "       [0],\n",
              "       [0],\n",
              "       [0],\n",
              "       [0],\n",
              "       [0],\n",
              "       [0],\n",
              "       [0],\n",
              "       [0],\n",
              "       [1],\n",
              "       [0],\n",
              "       [0],\n",
              "       [0],\n",
              "       [0],\n",
              "       [0],\n",
              "       [1],\n",
              "       [1],\n",
              "       [1],\n",
              "       [0],\n",
              "       [1],\n",
              "       [1],\n",
              "       [0],\n",
              "       [0],\n",
              "       [1],\n",
              "       [0],\n",
              "       [0],\n",
              "       [1],\n",
              "       [0],\n",
              "       [0],\n",
              "       [1],\n",
              "       [1],\n",
              "       [0],\n",
              "       [0],\n",
              "       [0],\n",
              "       [0],\n",
              "       [1],\n",
              "       [0],\n",
              "       [0],\n",
              "       [1],\n",
              "       [0],\n",
              "       [0],\n",
              "       [0],\n",
              "       [0],\n",
              "       [0],\n",
              "       [0],\n",
              "       [0],\n",
              "       [1],\n",
              "       [1],\n",
              "       [1],\n",
              "       [0],\n",
              "       [0],\n",
              "       [1],\n",
              "       [0],\n",
              "       [0],\n",
              "       [1],\n",
              "       [0],\n",
              "       [0],\n",
              "       [1],\n",
              "       [0],\n",
              "       [1],\n",
              "       [1],\n",
              "       [0],\n",
              "       [1],\n",
              "       [0],\n",
              "       [1],\n",
              "       [0],\n",
              "       [1],\n",
              "       [0],\n",
              "       [1],\n",
              "       [1],\n",
              "       [0],\n",
              "       [0],\n",
              "       [0],\n",
              "       [0],\n",
              "       [1],\n",
              "       [1],\n",
              "       [0],\n",
              "       [1],\n",
              "       [0],\n",
              "       [1],\n",
              "       [0],\n",
              "       [0],\n",
              "       [0],\n",
              "       [0],\n",
              "       [1],\n",
              "       [1],\n",
              "       [0],\n",
              "       [1],\n",
              "       [0],\n",
              "       [1],\n",
              "       [0],\n",
              "       [0],\n",
              "       [0],\n",
              "       [0],\n",
              "       [0],\n",
              "       [1],\n",
              "       [0],\n",
              "       [0],\n",
              "       [0],\n",
              "       [0],\n",
              "       [1],\n",
              "       [0],\n",
              "       [0],\n",
              "       [1],\n",
              "       [1],\n",
              "       [1],\n",
              "       [0],\n",
              "       [0],\n",
              "       [1],\n",
              "       [0],\n",
              "       [0],\n",
              "       [1],\n",
              "       [0],\n",
              "       [0],\n",
              "       [0],\n",
              "       [1],\n",
              "       [0],\n",
              "       [0],\n",
              "       [1],\n",
              "       [0],\n",
              "       [0],\n",
              "       [0],\n",
              "       [0],\n",
              "       [0],\n",
              "       [0],\n",
              "       [0],\n",
              "       [0],\n",
              "       [0],\n",
              "       [1],\n",
              "       [0],\n",
              "       [0],\n",
              "       [0],\n",
              "       [0],\n",
              "       [0],\n",
              "       [0],\n",
              "       [0],\n",
              "       [1],\n",
              "       [0],\n",
              "       [0],\n",
              "       [0],\n",
              "       [1],\n",
              "       [0],\n",
              "       [0],\n",
              "       [0],\n",
              "       [1],\n",
              "       [1],\n",
              "       [0],\n",
              "       [0],\n",
              "       [0],\n",
              "       [0],\n",
              "       [0],\n",
              "       [0],\n",
              "       [0],\n",
              "       [1],\n",
              "       [0],\n",
              "       [0],\n",
              "       [0],\n",
              "       [0],\n",
              "       [1],\n",
              "       [0],\n",
              "       [0],\n",
              "       [0],\n",
              "       [1],\n",
              "       [0],\n",
              "       [0],\n",
              "       [0],\n",
              "       [1],\n",
              "       [0],\n",
              "       [0],\n",
              "       [0],\n",
              "       [1],\n",
              "       [0],\n",
              "       [0],\n",
              "       [0],\n",
              "       [0],\n",
              "       [1],\n",
              "       [1],\n",
              "       [0],\n",
              "       [0],\n",
              "       [0],\n",
              "       [0],\n",
              "       [0],\n",
              "       [0],\n",
              "       [1],\n",
              "       [0],\n",
              "       [0],\n",
              "       [0],\n",
              "       [0],\n",
              "       [0],\n",
              "       [0],\n",
              "       [0],\n",
              "       [0],\n",
              "       [0],\n",
              "       [0],\n",
              "       [0],\n",
              "       [1],\n",
              "       [0],\n",
              "       [0],\n",
              "       [0],\n",
              "       [1],\n",
              "       [1],\n",
              "       [1],\n",
              "       [1],\n",
              "       [0],\n",
              "       [0],\n",
              "       [1],\n",
              "       [1],\n",
              "       [0],\n",
              "       [0],\n",
              "       [0],\n",
              "       [0],\n",
              "       [0],\n",
              "       [0],\n",
              "       [0],\n",
              "       [0],\n",
              "       [0],\n",
              "       [0],\n",
              "       [0],\n",
              "       [0],\n",
              "       [0],\n",
              "       [1],\n",
              "       [1],\n",
              "       [0],\n",
              "       [0],\n",
              "       [0],\n",
              "       [0],\n",
              "       [0],\n",
              "       [0],\n",
              "       [0],\n",
              "       [1],\n",
              "       [0],\n",
              "       [0],\n",
              "       [0],\n",
              "       [0],\n",
              "       [0],\n",
              "       [0],\n",
              "       [0],\n",
              "       [1],\n",
              "       [0],\n",
              "       [1],\n",
              "       [1],\n",
              "       [0],\n",
              "       [0],\n",
              "       [0],\n",
              "       [1],\n",
              "       [0],\n",
              "       [1],\n",
              "       [0],\n",
              "       [1],\n",
              "       [0],\n",
              "       [1],\n",
              "       [0],\n",
              "       [1],\n",
              "       [0],\n",
              "       [0],\n",
              "       [1],\n",
              "       [0],\n",
              "       [0],\n",
              "       [1],\n",
              "       [0],\n",
              "       [0],\n",
              "       [0],\n",
              "       [0],\n",
              "       [1],\n",
              "       [1],\n",
              "       [0],\n",
              "       [1],\n",
              "       [0],\n",
              "       [0],\n",
              "       [0],\n",
              "       [0],\n",
              "       [1],\n",
              "       [1],\n",
              "       [0],\n",
              "       [1],\n",
              "       [0],\n",
              "       [0],\n",
              "       [0],\n",
              "       [1],\n",
              "       [1],\n",
              "       [0],\n",
              "       [0],\n",
              "       [0],\n",
              "       [0],\n",
              "       [0],\n",
              "       [0],\n",
              "       [0],\n",
              "       [0],\n",
              "       [0],\n",
              "       [0],\n",
              "       [1],\n",
              "       [0],\n",
              "       [0],\n",
              "       [0],\n",
              "       [0],\n",
              "       [1],\n",
              "       [0],\n",
              "       [0],\n",
              "       [1],\n",
              "       [0],\n",
              "       [0],\n",
              "       [0],\n",
              "       [1],\n",
              "       [0],\n",
              "       [0],\n",
              "       [0],\n",
              "       [1],\n",
              "       [1],\n",
              "       [1],\n",
              "       [0],\n",
              "       [0],\n",
              "       [0],\n",
              "       [0],\n",
              "       [0],\n",
              "       [0],\n",
              "       [1],\n",
              "       [0],\n",
              "       [0],\n",
              "       [0],\n",
              "       [1],\n",
              "       [0],\n",
              "       [1],\n",
              "       [1],\n",
              "       [1],\n",
              "       [1],\n",
              "       [0],\n",
              "       [1],\n",
              "       [1],\n",
              "       [0],\n",
              "       [0],\n",
              "       [0],\n",
              "       [0],\n",
              "       [0],\n",
              "       [0],\n",
              "       [0],\n",
              "       [1],\n",
              "       [1],\n",
              "       [0],\n",
              "       [1],\n",
              "       [0],\n",
              "       [0],\n",
              "       [1],\n",
              "       [0],\n",
              "       [1],\n",
              "       [0],\n",
              "       [0],\n",
              "       [0],\n",
              "       [0],\n",
              "       [0],\n",
              "       [1],\n",
              "       [0],\n",
              "       [1],\n",
              "       [0],\n",
              "       [1],\n",
              "       [0],\n",
              "       [1],\n",
              "       [1],\n",
              "       [0],\n",
              "       [0],\n",
              "       [0],\n",
              "       [0],\n",
              "       [1],\n",
              "       [1],\n",
              "       [0],\n",
              "       [0],\n",
              "       [0],\n",
              "       [1],\n",
              "       [0],\n",
              "       [1],\n",
              "       [1],\n",
              "       [0],\n",
              "       [0],\n",
              "       [1],\n",
              "       [0],\n",
              "       [0],\n",
              "       [1],\n",
              "       [1],\n",
              "       [0],\n",
              "       [0],\n",
              "       [1],\n",
              "       [0],\n",
              "       [0],\n",
              "       [1],\n",
              "       [0],\n",
              "       [0],\n",
              "       [0],\n",
              "       [0],\n",
              "       [0],\n",
              "       [0],\n",
              "       [0],\n",
              "       [1],\n",
              "       [1],\n",
              "       [1],\n",
              "       [0],\n",
              "       [0],\n",
              "       [0],\n",
              "       [0],\n",
              "       [0],\n",
              "       [0],\n",
              "       [1],\n",
              "       [1],\n",
              "       [0],\n",
              "       [0],\n",
              "       [1],\n",
              "       [0],\n",
              "       [0],\n",
              "       [1],\n",
              "       [0],\n",
              "       [1],\n",
              "       [1],\n",
              "       [1],\n",
              "       [0],\n",
              "       [0],\n",
              "       [1],\n",
              "       [1],\n",
              "       [1],\n",
              "       [0],\n",
              "       [1],\n",
              "       [0],\n",
              "       [1],\n",
              "       [0],\n",
              "       [1],\n",
              "       [0],\n",
              "       [0],\n",
              "       [0],\n",
              "       [0],\n",
              "       [1],\n",
              "       [0]])"
            ]
          },
          "execution_count": 21,
          "metadata": {},
          "output_type": "execute_result"
        }
      ],
      "source": [
        "y"
      ]
    },
    {
      "cell_type": "code",
      "execution_count": null,
      "id": "683412b3",
      "metadata": {
        "id": "683412b3"
      },
      "outputs": [],
      "source": [
        "split_test_size = 0.3"
      ]
    },
    {
      "cell_type": "code",
      "execution_count": null,
      "id": "42fa8726",
      "metadata": {
        "id": "42fa8726"
      },
      "outputs": [],
      "source": [
        "X_treino, X_teste, Y_treino, Y_teste = train_test_split(x,y, test_size = split_test_size, random_state = 42)"
      ]
    },
    {
      "cell_type": "code",
      "execution_count": null,
      "id": "075ff6f2",
      "metadata": {
        "id": "075ff6f2",
        "outputId": "eaae887d-317e-4b0f-f067-1014c7ebfa70"
      },
      "outputs": [
        {
          "name": "stdout",
          "output_type": "stream",
          "text": [
            "69.92% nos dados de treino\n",
            "30.08% nos dados de teste\n"
          ]
        }
      ],
      "source": [
        "print (\"{0:0.2f}% nos dados de treino\".format ((len(X_treino)/len(df_diabetes.index))*100))\n",
        "print (\"{0:0.2f}% nos dados de teste\".format ((len(X_teste)/len(df_diabetes.index))*100))"
      ]
    },
    {
      "cell_type": "code",
      "execution_count": null,
      "id": "c0cbedf2",
      "metadata": {
        "id": "c0cbedf2",
        "outputId": "4d98c0ad-460c-4d2c-8f49-c3a9c35ad8a6"
      },
      "outputs": [
        {
          "data": {
            "text/plain": [
              "array([[  1.   ,  95.   ,  60.   , ...,  23.9  ,   0.26 ,  22.   ],\n",
              "       [  5.   , 105.   ,  72.   , ...,  36.9  ,   0.159,  28.   ],\n",
              "       [  0.   , 135.   ,  68.   , ...,  42.3  ,   0.365,  24.   ],\n",
              "       ...,\n",
              "       [ 10.   , 101.   ,  86.   , ...,  45.6  ,   1.136,  38.   ],\n",
              "       [  0.   , 141.   ,   0.   , ...,  42.4  ,   0.205,  29.   ],\n",
              "       [  0.   , 125.   ,  96.   , ...,  22.5  ,   0.262,  21.   ]])"
            ]
          },
          "execution_count": 25,
          "metadata": {},
          "output_type": "execute_result"
        }
      ],
      "source": [
        "X_treino"
      ]
    },
    {
      "cell_type": "code",
      "execution_count": null,
      "id": "047a6ea5",
      "metadata": {
        "id": "047a6ea5",
        "outputId": "bf234735-a41b-4637-f3a5-445e53526aca"
      },
      "outputs": [
        {
          "name": "stdout",
          "output_type": "stream",
          "text": [
            "Original True : 268 (34.90%)\n",
            "Original False : 500 (65.10%)\n",
            "Training True : 188 (35.01%)\n",
            "Training False : 349 (64.99%)\n",
            "Test True : 80 (34.63%)\n",
            "Test False : 151 (65.37%)\n"
          ]
        }
      ],
      "source": [
        "print (\"Original True : {0} ({1:0.2f}%)\".format(len(df_diabetes.loc[df_diabetes['Diabete']==1]),\n",
        "                                               (len(df_diabetes.loc[df_diabetes['Diabete']==1])/len(df_diabetes.index)*100)))\n",
        "\n",
        "print (\"Original False : {0} ({1:0.2f}%)\".format(len(df_diabetes.loc[df_diabetes['Diabete']==0]),\n",
        "                                               (len(df_diabetes.loc[df_diabetes['Diabete']==0])/len(df_diabetes.index)*100)))\n",
        "\n",
        "print (\"Training True : {0} ({1:0.2f}%)\".format(len(Y_treino[Y_treino[:]==1]),\n",
        "                                               (len(Y_treino[Y_treino[:]==1])/len(Y_treino)*100)))\n",
        "\n",
        "print (\"Training False : {0} ({1:0.2f}%)\".format(len(Y_treino[Y_treino[:]==0]),\n",
        "                                               (len(Y_treino[Y_treino[:]==0])/len(Y_treino)*100)))\n",
        "\n",
        "print (\"Test True : {0} ({1:0.2f}%)\".format(len(Y_teste[Y_teste[:]==1]),\n",
        "                                               ((len(Y_teste[Y_teste[:]==1]))/len(Y_teste)*100)))\n",
        "\n",
        "print (\"Test False : {0} ({1:0.2f}%)\".format(len(Y_teste[Y_teste[:]==0]),\n",
        "                                               (len(Y_teste[Y_teste[:]==0])/len(Y_teste)*100)))"
      ]
    },
    {
      "cell_type": "code",
      "execution_count": null,
      "id": "c9f8b08b",
      "metadata": {
        "id": "c9f8b08b",
        "outputId": "c44f98aa-6c08-43f1-8aab-fa1a8752477a"
      },
      "outputs": [
        {
          "data": {
            "text/html": [
              "<div>\n",
              "<style scoped>\n",
              "    .dataframe tbody tr th:only-of-type {\n",
              "        vertical-align: middle;\n",
              "    }\n",
              "\n",
              "    .dataframe tbody tr th {\n",
              "        vertical-align: top;\n",
              "    }\n",
              "\n",
              "    .dataframe thead th {\n",
              "        text-align: right;\n",
              "    }\n",
              "</style>\n",
              "<table border=\"1\" class=\"dataframe\">\n",
              "  <thead>\n",
              "    <tr style=\"text-align: right;\">\n",
              "      <th></th>\n",
              "      <th>Pregnancies</th>\n",
              "      <th>Glicose</th>\n",
              "      <th>PS</th>\n",
              "      <th>EP</th>\n",
              "      <th>Insulina</th>\n",
              "      <th>IMC</th>\n",
              "      <th>PedigreeDiabetes</th>\n",
              "      <th>Idade</th>\n",
              "      <th>Diabete</th>\n",
              "    </tr>\n",
              "  </thead>\n",
              "  <tbody>\n",
              "    <tr>\n",
              "      <th>0</th>\n",
              "      <td>6</td>\n",
              "      <td>148</td>\n",
              "      <td>72</td>\n",
              "      <td>35</td>\n",
              "      <td>0</td>\n",
              "      <td>33.6</td>\n",
              "      <td>0.627</td>\n",
              "      <td>50</td>\n",
              "      <td>1</td>\n",
              "    </tr>\n",
              "  </tbody>\n",
              "</table>\n",
              "</div>"
            ],
            "text/plain": [
              "   Pregnancies  Glicose  PS  EP  Insulina   IMC  PedigreeDiabetes  Idade  \\\n",
              "0            6      148  72  35         0  33.6             0.627     50   \n",
              "\n",
              "   Diabete  \n",
              "0        1  "
            ]
          },
          "execution_count": 27,
          "metadata": {},
          "output_type": "execute_result"
        }
      ],
      "source": [
        "df_diabetes.head(1)"
      ]
    },
    {
      "cell_type": "code",
      "execution_count": null,
      "id": "4cc51055",
      "metadata": {
        "id": "4cc51055",
        "outputId": "3db30c4e-e1c1-4828-caf6-3ffb6edc06c1"
      },
      "outputs": [
        {
          "name": "stdout",
          "output_type": "stream",
          "text": [
            "#Linhas no dataframe 768\n",
            "#Linhas missing de GLicose 5\n",
            "#Linhas missing de PS 227\n",
            "#Linhas missing de EP 35\n",
            "#Linhas missing de Insulina 374\n",
            "#Linhas missing de IMC 11\n",
            "#Linhas missing de Idade 0\n"
          ]
        }
      ],
      "source": [
        "print (\"#Linhas no dataframe {0}\".format(len(df_diabetes)))\n",
        "print (\"#Linhas missing de GLicose {0}\".format(len(df_diabetes.loc[df_diabetes['Glicose'] == 0])))\n",
        "print (\"#Linhas missing de PS {0}\".format(len(df_diabetes.loc[df_diabetes['EP'] == 0])))\n",
        "print (\"#Linhas missing de EP {0}\".format(len(df_diabetes.loc[df_diabetes['PS'] == 0])))\n",
        "print (\"#Linhas missing de Insulina {0}\".format(len(df_diabetes.loc[df_diabetes['Insulina'] == 0])))\n",
        "print (\"#Linhas missing de IMC {0}\".format(len(df_diabetes.loc[df_diabetes['IMC'] == 0])))\n",
        "print (\"#Linhas missing de Idade {0}\".format(len(df_diabetes.loc[df_diabetes['Idade'] == 0])))"
      ]
    },
    {
      "cell_type": "markdown",
      "id": "0d565827",
      "metadata": {
        "id": "0d565827"
      },
      "source": [
        "**TRATANDO DADOS MISsING**"
      ]
    },
    {
      "cell_type": "code",
      "execution_count": null,
      "id": "5d3c5f47",
      "metadata": {
        "id": "5d3c5f47"
      },
      "outputs": [],
      "source": [
        "#Possibilidade 1 Seria  deletar as colunas com valores missing\n",
        "#   df.drop(columns=['Insulina','IMC'])\n",
        "## deletando as colunas imc e insulina"
      ]
    },
    {
      "cell_type": "code",
      "execution_count": null,
      "id": "950de17e",
      "metadata": {
        "id": "950de17e",
        "outputId": "a71f99a7-1b5a-491e-ad11-eb742e018e46"
      },
      "outputs": [
        {
          "data": {
            "text/html": [
              "<div>\n",
              "<style scoped>\n",
              "    .dataframe tbody tr th:only-of-type {\n",
              "        vertical-align: middle;\n",
              "    }\n",
              "\n",
              "    .dataframe tbody tr th {\n",
              "        vertical-align: top;\n",
              "    }\n",
              "\n",
              "    .dataframe thead th {\n",
              "        text-align: right;\n",
              "    }\n",
              "</style>\n",
              "<table border=\"1\" class=\"dataframe\">\n",
              "  <thead>\n",
              "    <tr style=\"text-align: right;\">\n",
              "      <th></th>\n",
              "      <th>Pregnancies</th>\n",
              "      <th>Glicose</th>\n",
              "      <th>PS</th>\n",
              "      <th>EP</th>\n",
              "      <th>Insulina</th>\n",
              "      <th>IMC</th>\n",
              "      <th>PedigreeDiabetes</th>\n",
              "      <th>Idade</th>\n",
              "      <th>Diabete</th>\n",
              "    </tr>\n",
              "  </thead>\n",
              "  <tbody>\n",
              "    <tr>\n",
              "      <th>0</th>\n",
              "      <td>6</td>\n",
              "      <td>148</td>\n",
              "      <td>72</td>\n",
              "      <td>35</td>\n",
              "      <td>0</td>\n",
              "      <td>33.6</td>\n",
              "      <td>0.627</td>\n",
              "      <td>50</td>\n",
              "      <td>1</td>\n",
              "    </tr>\n",
              "    <tr>\n",
              "      <th>1</th>\n",
              "      <td>1</td>\n",
              "      <td>85</td>\n",
              "      <td>66</td>\n",
              "      <td>29</td>\n",
              "      <td>0</td>\n",
              "      <td>26.6</td>\n",
              "      <td>0.351</td>\n",
              "      <td>31</td>\n",
              "      <td>0</td>\n",
              "    </tr>\n",
              "    <tr>\n",
              "      <th>2</th>\n",
              "      <td>8</td>\n",
              "      <td>183</td>\n",
              "      <td>64</td>\n",
              "      <td>0</td>\n",
              "      <td>0</td>\n",
              "      <td>23.3</td>\n",
              "      <td>0.672</td>\n",
              "      <td>32</td>\n",
              "      <td>1</td>\n",
              "    </tr>\n",
              "    <tr>\n",
              "      <th>3</th>\n",
              "      <td>1</td>\n",
              "      <td>89</td>\n",
              "      <td>66</td>\n",
              "      <td>23</td>\n",
              "      <td>94</td>\n",
              "      <td>28.1</td>\n",
              "      <td>0.167</td>\n",
              "      <td>21</td>\n",
              "      <td>0</td>\n",
              "    </tr>\n",
              "    <tr>\n",
              "      <th>4</th>\n",
              "      <td>0</td>\n",
              "      <td>137</td>\n",
              "      <td>40</td>\n",
              "      <td>35</td>\n",
              "      <td>168</td>\n",
              "      <td>43.1</td>\n",
              "      <td>2.288</td>\n",
              "      <td>33</td>\n",
              "      <td>1</td>\n",
              "    </tr>\n",
              "    <tr>\n",
              "      <th>...</th>\n",
              "      <td>...</td>\n",
              "      <td>...</td>\n",
              "      <td>...</td>\n",
              "      <td>...</td>\n",
              "      <td>...</td>\n",
              "      <td>...</td>\n",
              "      <td>...</td>\n",
              "      <td>...</td>\n",
              "      <td>...</td>\n",
              "    </tr>\n",
              "    <tr>\n",
              "      <th>763</th>\n",
              "      <td>10</td>\n",
              "      <td>101</td>\n",
              "      <td>76</td>\n",
              "      <td>48</td>\n",
              "      <td>180</td>\n",
              "      <td>32.9</td>\n",
              "      <td>0.171</td>\n",
              "      <td>63</td>\n",
              "      <td>0</td>\n",
              "    </tr>\n",
              "    <tr>\n",
              "      <th>764</th>\n",
              "      <td>2</td>\n",
              "      <td>122</td>\n",
              "      <td>70</td>\n",
              "      <td>27</td>\n",
              "      <td>0</td>\n",
              "      <td>36.8</td>\n",
              "      <td>0.340</td>\n",
              "      <td>27</td>\n",
              "      <td>0</td>\n",
              "    </tr>\n",
              "    <tr>\n",
              "      <th>765</th>\n",
              "      <td>5</td>\n",
              "      <td>121</td>\n",
              "      <td>72</td>\n",
              "      <td>23</td>\n",
              "      <td>112</td>\n",
              "      <td>26.2</td>\n",
              "      <td>0.245</td>\n",
              "      <td>30</td>\n",
              "      <td>0</td>\n",
              "    </tr>\n",
              "    <tr>\n",
              "      <th>766</th>\n",
              "      <td>1</td>\n",
              "      <td>126</td>\n",
              "      <td>60</td>\n",
              "      <td>0</td>\n",
              "      <td>0</td>\n",
              "      <td>30.1</td>\n",
              "      <td>0.349</td>\n",
              "      <td>47</td>\n",
              "      <td>1</td>\n",
              "    </tr>\n",
              "    <tr>\n",
              "      <th>767</th>\n",
              "      <td>1</td>\n",
              "      <td>93</td>\n",
              "      <td>70</td>\n",
              "      <td>31</td>\n",
              "      <td>0</td>\n",
              "      <td>30.4</td>\n",
              "      <td>0.315</td>\n",
              "      <td>23</td>\n",
              "      <td>0</td>\n",
              "    </tr>\n",
              "  </tbody>\n",
              "</table>\n",
              "<p>768 rows × 9 columns</p>\n",
              "</div>"
            ],
            "text/plain": [
              "     Pregnancies  Glicose  PS  EP  Insulina   IMC  PedigreeDiabetes  Idade  \\\n",
              "0              6      148  72  35         0  33.6             0.627     50   \n",
              "1              1       85  66  29         0  26.6             0.351     31   \n",
              "2              8      183  64   0         0  23.3             0.672     32   \n",
              "3              1       89  66  23        94  28.1             0.167     21   \n",
              "4              0      137  40  35       168  43.1             2.288     33   \n",
              "..           ...      ...  ..  ..       ...   ...               ...    ...   \n",
              "763           10      101  76  48       180  32.9             0.171     63   \n",
              "764            2      122  70  27         0  36.8             0.340     27   \n",
              "765            5      121  72  23       112  26.2             0.245     30   \n",
              "766            1      126  60   0         0  30.1             0.349     47   \n",
              "767            1       93  70  31         0  30.4             0.315     23   \n",
              "\n",
              "     Diabete  \n",
              "0          1  \n",
              "1          0  \n",
              "2          1  \n",
              "3          0  \n",
              "4          1  \n",
              "..       ...  \n",
              "763        0  \n",
              "764        0  \n",
              "765        0  \n",
              "766        1  \n",
              "767        0  \n",
              "\n",
              "[768 rows x 9 columns]"
            ]
          },
          "execution_count": 30,
          "metadata": {},
          "output_type": "execute_result"
        }
      ],
      "source": [
        "#Possibilidade 2 Seria deletar as linhas com valores missing\n",
        "df_diabetes.dropna(axis=0, how='any', thresh=None, subset=None, inplace=False)"
      ]
    },
    {
      "cell_type": "code",
      "execution_count": null,
      "id": "c94923ec",
      "metadata": {
        "id": "c94923ec"
      },
      "outputs": [],
      "source": [
        "## Possibilidade 3 Imputação de dados, subustituir os valores pela media\n",
        "from sklearn.impute import SimpleImputer"
      ]
    },
    {
      "cell_type": "code",
      "execution_count": null,
      "id": "268a5c24",
      "metadata": {
        "id": "268a5c24"
      },
      "outputs": [],
      "source": [
        "preenche_0 = SimpleImputer(missing_values = 0, strategy = \"mean\")\n",
        "X_treino = preenche_0.fit_transform(X_treino)\n",
        "X_teste = preenche_0.fit_transform(X_teste)"
      ]
    },
    {
      "cell_type": "code",
      "execution_count": null,
      "id": "d6cd145d",
      "metadata": {
        "id": "d6cd145d",
        "outputId": "fb89f595-ae04-41c2-d121-a1ab05292bfb"
      },
      "outputs": [
        {
          "data": {
            "text/plain": [
              "array([[  1.        ,  95.        ,  60.        , ...,  23.9       ,\n",
              "          0.26      ,  22.        ],\n",
              "       [  5.        , 105.        ,  72.        , ...,  36.9       ,\n",
              "          0.159     ,  28.        ],\n",
              "       [  4.34056399, 135.        ,  68.        , ...,  42.3       ,\n",
              "          0.365     ,  24.        ],\n",
              "       ...,\n",
              "       [ 10.        , 101.        ,  86.        , ...,  45.6       ,\n",
              "          1.136     ,  38.        ],\n",
              "       [  4.34056399, 141.        ,  72.24131274, ...,  42.4       ,\n",
              "          0.205     ,  29.        ],\n",
              "       [  4.34056399, 125.        ,  96.        , ...,  22.5       ,\n",
              "          0.262     ,  21.        ]])"
            ]
          },
          "execution_count": 33,
          "metadata": {},
          "output_type": "execute_result"
        }
      ],
      "source": [
        "X_treino"
      ]
    },
    {
      "cell_type": "markdown",
      "id": "8c8d4309",
      "metadata": {
        "id": "8c8d4309"
      },
      "source": [
        "**MODELO DE REGRESSÃO LOGISTICA**\n",
        "\n",
        "MODELO PRA PREVER CATEGORIAS (CLASSIFICAÇÃO, POR EXEMPLO: DIABETES OU NÃO DIABETICOS {0 ou 1})"
      ]
    },
    {
      "cell_type": "code",
      "execution_count": null,
      "id": "b4e96e75",
      "metadata": {
        "id": "b4e96e75"
      },
      "outputs": [],
      "source": [
        "modelo_rl = LogisticRegression(C = 0.7, random_state = 42, max_iter = 1000)\n",
        "modelo_rl.fit(X_treino, Y_treino.ravel())\n",
        "y_forecast_rl = modelo_rl.predict(X_teste)"
      ]
    },
    {
      "cell_type": "markdown",
      "id": "59fa86a9",
      "metadata": {
        "id": "59fa86a9"
      },
      "source": [
        "**Acurácia**: é a media global do acerto do modelo ao classificar as classes"
      ]
    },
    {
      "cell_type": "code",
      "execution_count": null,
      "id": "81bd7a58",
      "metadata": {
        "id": "81bd7a58",
        "outputId": "292a3f84-9237-4d32-8f05-3ada83df6262"
      },
      "outputs": [
        {
          "name": "stdout",
          "output_type": "stream",
          "text": [
            "Acurácia do modelo de regressão logística:73.59307359307358\n",
            "\n",
            "Classification Report\n",
            "              precision    recall  f1-score   support\n",
            "\n",
            "           1       0.63      0.59      0.61        80\n",
            "           0       0.79      0.81      0.80       151\n",
            "\n",
            "    accuracy                           0.74       231\n",
            "   macro avg       0.71      0.70      0.70       231\n",
            "weighted avg       0.73      0.74      0.73       231\n",
            "\n"
          ]
        }
      ],
      "source": [
        "print (f'Acurácia do modelo de regressão logística:{accuracy_score(Y_teste, y_forecast_rl)*100}')\n",
        "print()\n",
        "print (\"Classification Report\")\n",
        "print (metrics.classification_report(Y_teste, y_forecast_rl, labels = [1,0]))"
      ]
    },
    {
      "cell_type": "markdown",
      "id": "19bd6e3d",
      "metadata": {
        "id": "19bd6e3d"
      },
      "source": [
        "**KNN (K** **N**earest **N**eighbor)"
      ]
    },
    {
      "cell_type": "code",
      "execution_count": null,
      "id": "063b5d01",
      "metadata": {
        "id": "063b5d01"
      },
      "outputs": [],
      "source": [
        "#Construindo um Modelo KNN com 5 neighbors\n",
        "modelo_KNN = KNeighborsClassifier(n_neighbors=27)\n",
        "\n",
        "#Treinando o Modelo KNN (RAVEL transforma um array de arrays em 1 só array)\n",
        "modelo_KNN.fit(X_treino, Y_treino.ravel())\n",
        "\n",
        "#Testando o Modelo KNN\n",
        "y_forecast_KNN = modelo_KNN.predict(X_teste)"
      ]
    },
    {
      "cell_type": "code",
      "execution_count": null,
      "id": "2ee6780f",
      "metadata": {
        "id": "2ee6780f",
        "outputId": "e93ed7d4-4b77-4948-fd47-e7f1af50088a"
      },
      "outputs": [
        {
          "name": "stdout",
          "output_type": "stream",
          "text": [
            "Exatidão do modelo KNN: 71.43%\n",
            "\n",
            "Classification Report\n",
            "              precision    recall  f1-score   support\n",
            "\n",
            "           1       0.60      0.54      0.57        80\n",
            "           0       0.77      0.81      0.79       151\n",
            "\n",
            "    accuracy                           0.71       231\n",
            "   macro avg       0.68      0.67      0.68       231\n",
            "weighted avg       0.71      0.71      0.71       231\n",
            "\n"
          ]
        }
      ],
      "source": [
        "print (\"Exatidão do modelo KNN: {0:.2f}%\".format(metrics.accuracy_score(Y_teste, y_forecast_KNN)*100))\n",
        "print()\n",
        "print (\"Classification Report\")\n",
        "print (metrics.classification_report(Y_teste, y_forecast_KNN, labels = [1,0]))"
      ]
    },
    {
      "cell_type": "markdown",
      "id": "ade10c3b",
      "metadata": {
        "id": "ade10c3b"
      },
      "source": [
        "**Decision Tree**"
      ]
    },
    {
      "cell_type": "code",
      "execution_count": null,
      "id": "f0d88437",
      "metadata": {
        "id": "f0d88437"
      },
      "outputs": [],
      "source": [
        "modelo_tree = DecisionTreeClassifier(random_state=1)\n",
        "modelo_tree.fit(X_treino, Y_treino)\n",
        "y_forecast_tree = modelo_tree.predict(X_teste)"
      ]
    },
    {
      "cell_type": "code",
      "execution_count": null,
      "id": "fe29b03f",
      "metadata": {
        "id": "fe29b03f",
        "outputId": "05e6bb25-6b0a-4397-a8c2-aa0759a95f25"
      },
      "outputs": [
        {
          "name": "stdout",
          "output_type": "stream",
          "text": [
            "Exatidão do modelo de Árvore de decisão: 73.16%\n",
            "\n",
            "Classification Report\n",
            "              precision    recall  f1-score   support\n",
            "\n",
            "           1       0.61      0.64      0.62        80\n",
            "           0       0.80      0.78      0.79       151\n",
            "\n",
            "    accuracy                           0.73       231\n",
            "   macro avg       0.70      0.71      0.71       231\n",
            "weighted avg       0.73      0.73      0.73       231\n",
            "\n"
          ]
        }
      ],
      "source": [
        "print (\"Exatidão do modelo de Árvore de decisão: {0:.2f}%\".format(metrics.accuracy_score(Y_teste, y_forecast_tree)*100))\n",
        "print()\n",
        "print (\"Classification Report\")\n",
        "print (metrics.classification_report(Y_teste, y_forecast_tree, labels = [1,0]))"
      ]
    },
    {
      "cell_type": "markdown",
      "id": "5636d412",
      "metadata": {
        "id": "5636d412"
      },
      "source": [
        "**CLASSIFICADOR NAIVE BAYES**\n",
        "\n",
        "Trabalha com probabilidade condicional\n",
        "Desconsidera a correlação entre as variáveis"
      ]
    },
    {
      "cell_type": "code",
      "execution_count": null,
      "id": "64a7d63c",
      "metadata": {
        "id": "64a7d63c",
        "outputId": "c034d3c1-ae20-48a4-a6aa-422afe062728"
      },
      "outputs": [
        {
          "data": {
            "text/plain": [
              "GaussianNB()"
            ]
          },
          "execution_count": 40,
          "metadata": {},
          "output_type": "execute_result"
        }
      ],
      "source": [
        "from sklearn.naive_bayes import GaussianNB\n",
        "\n",
        "modelo_NB = GaussianNB()\n",
        "\n",
        "modelo_NB.fit(X_treino, Y_treino.ravel())"
      ]
    },
    {
      "cell_type": "code",
      "execution_count": null,
      "id": "5b23699e",
      "metadata": {
        "id": "5b23699e",
        "outputId": "2d01bcd7-9e9e-454b-8796-e4fa0b80c9ff"
      },
      "outputs": [
        {
          "name": "stdout",
          "output_type": "stream",
          "text": [
            "Exatidão do modelo Navie Bayes: 73.59%\n",
            "\n",
            "Classification Report\n",
            "              precision    recall  f1-score   support\n",
            "\n",
            "           1       0.61      0.65      0.63        80\n",
            "           0       0.81      0.78      0.79       151\n",
            "\n",
            "    accuracy                           0.74       231\n",
            "   macro avg       0.71      0.72      0.71       231\n",
            "weighted avg       0.74      0.74      0.74       231\n",
            "\n"
          ]
        }
      ],
      "source": [
        "from sklearn import metrics\n",
        "y_forecast_NB = modelo_NB.predict(X_teste)\n",
        "\n",
        "print (\"Exatidão do modelo Navie Bayes: {0:.2f}%\".format(metrics.accuracy_score(Y_teste, y_forecast_NB)*100))\n",
        "print()\n",
        "print (\"Classification Report\")\n",
        "print (metrics.classification_report(Y_teste, y_forecast_NB, labels = [1,0]))"
      ]
    },
    {
      "cell_type": "markdown",
      "id": "03e9816e",
      "metadata": {
        "id": "03e9816e"
      },
      "source": [
        "**COMPARANDO A ACURÁCIA DOS MODELOS**"
      ]
    },
    {
      "cell_type": "code",
      "execution_count": null,
      "id": "dfbc7d7f",
      "metadata": {
        "id": "dfbc7d7f",
        "outputId": "234ed5fa-6f3b-4e2f-9a2b-b15469d2310b"
      },
      "outputs": [
        {
          "name": "stdout",
          "output_type": "stream",
          "text": [
            "Exatidão do modelo regressão logística: 73.59%\n",
            "Exatidão do modelo KNN: 71.43%\n",
            "Exatidão do modelo árvore de decisão: 73.16%\n",
            "Exatidão do modelo Navie Bayes: 73.59%\n"
          ]
        }
      ],
      "source": [
        "print (\"Exatidão do modelo regressão logística: {0:.2f}%\".format(metrics.accuracy_score(Y_teste, y_forecast_rl)*100))\n",
        "print (\"Exatidão do modelo KNN: {0:.2f}%\".format(metrics.accuracy_score(Y_teste, y_forecast_KNN)*100))\n",
        "print (\"Exatidão do modelo árvore de decisão: {0:.2f}%\".format(metrics.accuracy_score(Y_teste, y_forecast_tree)*100))\n",
        "print (\"Exatidão do modelo Navie Bayes: {0:.2f}%\".format(metrics.accuracy_score(Y_teste, y_forecast_NB)*100))"
      ]
    },
    {
      "cell_type": "markdown",
      "id": "b0832c17",
      "metadata": {
        "id": "b0832c17"
      },
      "source": [
        "**Predição com o modelo de regressão logistica**"
      ]
    },
    {
      "cell_type": "code",
      "execution_count": null,
      "id": "dd724f72",
      "metadata": {
        "id": "dd724f72",
        "outputId": "a8180caf-0cf2-4e75-b7e3-37a2bb2990d1"
      },
      "outputs": [
        {
          "data": {
            "text/html": [
              "<div>\n",
              "<style scoped>\n",
              "    .dataframe tbody tr th:only-of-type {\n",
              "        vertical-align: middle;\n",
              "    }\n",
              "\n",
              "    .dataframe tbody tr th {\n",
              "        vertical-align: top;\n",
              "    }\n",
              "\n",
              "    .dataframe thead th {\n",
              "        text-align: right;\n",
              "    }\n",
              "</style>\n",
              "<table border=\"1\" class=\"dataframe\">\n",
              "  <thead>\n",
              "    <tr style=\"text-align: right;\">\n",
              "      <th></th>\n",
              "      <th>Pregnancies</th>\n",
              "      <th>Glicose</th>\n",
              "      <th>PS</th>\n",
              "      <th>EP</th>\n",
              "      <th>Insulina</th>\n",
              "      <th>IMC</th>\n",
              "      <th>PedigreeDiabetes</th>\n",
              "      <th>Idade</th>\n",
              "      <th>Diabete</th>\n",
              "    </tr>\n",
              "  </thead>\n",
              "  <tbody>\n",
              "    <tr>\n",
              "      <th>0</th>\n",
              "      <td>6</td>\n",
              "      <td>148</td>\n",
              "      <td>72</td>\n",
              "      <td>35</td>\n",
              "      <td>0</td>\n",
              "      <td>33.6</td>\n",
              "      <td>0.627</td>\n",
              "      <td>50</td>\n",
              "      <td>1</td>\n",
              "    </tr>\n",
              "    <tr>\n",
              "      <th>1</th>\n",
              "      <td>1</td>\n",
              "      <td>85</td>\n",
              "      <td>66</td>\n",
              "      <td>29</td>\n",
              "      <td>0</td>\n",
              "      <td>26.6</td>\n",
              "      <td>0.351</td>\n",
              "      <td>31</td>\n",
              "      <td>0</td>\n",
              "    </tr>\n",
              "    <tr>\n",
              "      <th>2</th>\n",
              "      <td>8</td>\n",
              "      <td>183</td>\n",
              "      <td>64</td>\n",
              "      <td>0</td>\n",
              "      <td>0</td>\n",
              "      <td>23.3</td>\n",
              "      <td>0.672</td>\n",
              "      <td>32</td>\n",
              "      <td>1</td>\n",
              "    </tr>\n",
              "    <tr>\n",
              "      <th>3</th>\n",
              "      <td>1</td>\n",
              "      <td>89</td>\n",
              "      <td>66</td>\n",
              "      <td>23</td>\n",
              "      <td>94</td>\n",
              "      <td>28.1</td>\n",
              "      <td>0.167</td>\n",
              "      <td>21</td>\n",
              "      <td>0</td>\n",
              "    </tr>\n",
              "  </tbody>\n",
              "</table>\n",
              "</div>"
            ],
            "text/plain": [
              "   Pregnancies  Glicose  PS  EP  Insulina   IMC  PedigreeDiabetes  Idade  \\\n",
              "0            6      148  72  35         0  33.6             0.627     50   \n",
              "1            1       85  66  29         0  26.6             0.351     31   \n",
              "2            8      183  64   0         0  23.3             0.672     32   \n",
              "3            1       89  66  23        94  28.1             0.167     21   \n",
              "\n",
              "   Diabete  \n",
              "0        1  \n",
              "1        0  \n",
              "2        1  \n",
              "3        0  "
            ]
          },
          "execution_count": 43,
          "metadata": {},
          "output_type": "execute_result"
        }
      ],
      "source": [
        "df_diabetes.head(4)"
      ]
    },
    {
      "cell_type": "code",
      "execution_count": null,
      "id": "3144e775",
      "metadata": {
        "id": "3144e775",
        "outputId": "41ef91d6-7fe2-417e-e5c0-82cc5b3855d4"
      },
      "outputs": [
        {
          "name": "stdout",
          "output_type": "stream",
          "text": [
            "Número de filhos: 1\n",
            "Glicose: 99\n",
            "Pressão sanguínea: 90\n",
            "Espessura da pele: 40\n",
            "Insulina: 92\n",
            "IMC: 35\n",
            "Pedigree para Diabetes: 0.627\n",
            "Idade: 60\n"
          ]
        }
      ],
      "source": [
        "pregnancies = input('Número de filhos: ')\n",
        "Glicose = input('Glicose: ')\n",
        "PS = input('Pressão sanguínea: ')\n",
        "EP = input('Espessura da pele: ')\n",
        "Insulina = input('Insulina: ')\n",
        "IMC = input(str('IMC: '))\n",
        "PedigreeDiabetes = input(str('Pedigree para Diabetes: '))\n",
        "Idade = input('Idade: ')"
      ]
    },
    {
      "cell_type": "code",
      "execution_count": null,
      "id": "d1f44129",
      "metadata": {
        "id": "d1f44129"
      },
      "outputs": [],
      "source": [
        "paciente = np.array([pregnancies,\n",
        "                    Glicose,\n",
        "                    PS,\n",
        "                    EP,\n",
        "                    Insulina,\n",
        "                    IMC,\n",
        "                    PedigreeDiabetes,\n",
        "                    Idade]).reshape((1,-1))"
      ]
    },
    {
      "cell_type": "code",
      "execution_count": null,
      "id": "34e68b89",
      "metadata": {
        "id": "34e68b89",
        "outputId": "dcacbbf7-0182-462b-9ef7-4ca06f5fac0c"
      },
      "outputs": [
        {
          "name": "stdout",
          "output_type": "stream",
          "text": [
            "O resultado do exame é: 0\n"
          ]
        }
      ],
      "source": [
        "import warnings\n",
        "warnings.filterwarnings(\"ignore\")\n",
        "print(f'O resultado do exame é: {modelo_rl.predict(paciente)[0]}')"
      ]
    },
    {
      "cell_type": "code",
      "execution_count": null,
      "id": "25a8215f",
      "metadata": {
        "id": "25a8215f"
      },
      "outputs": [],
      "source": [
        ""
      ]
    }
  ],
  "metadata": {
    "kernelspec": {
      "display_name": "Python 3 (ipykernel)",
      "language": "python",
      "name": "python3"
    },
    "language_info": {
      "codemirror_mode": {
        "name": "ipython",
        "version": 3
      },
      "file_extension": ".py",
      "mimetype": "text/x-python",
      "name": "python",
      "nbconvert_exporter": "python",
      "pygments_lexer": "ipython3",
      "version": "3.9.12"
    },
    "colab": {
      "name": "Pratica.ipynb",
      "provenance": [],
      "include_colab_link": true
    }
  },
  "nbformat": 4,
  "nbformat_minor": 5
}